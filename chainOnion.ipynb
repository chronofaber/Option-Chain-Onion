{
 "cells": [
  {
   "cell_type": "code",
   "execution_count": 1,
   "metadata": {},
   "outputs": [],
   "source": [
    "#Import dependencies\n",
    "import requests\n",
    "from config import username"
   ]
  },
  {
   "cell_type": "raw",
   "metadata": {},
   "source": [
    "'''\n",
    "def range_inc(start=1000, stop=2000, step=5, inc):\n",
    "    i = start\n",
    "    while i < stop:\n",
    "        yield i\n",
    "        i += step\n",
    "        step += inc\n",
    "'''"
   ]
  },
  {
   "cell_type": "code",
   "execution_count": 2,
   "metadata": {},
   "outputs": [],
   "source": [
    "\n",
    "\n",
    "def get_option_chain_data(ticker, endpoint=\"https://api.tdameritrade.com/v1/marketdata/chains\"):\n",
    "    \n",
    "    '''Function to Request Option Chain API raw data for one security.\n",
    "    The Function has two inputs, a stock ticker and an Endpoint. \n",
    "    The Function contains a \"payload dictionary\" for all the \n",
    "    '''\n",
    "    un_sec = ticker\n",
    "    #endpoint = endpoint\n",
    "\n",
    "    #define payload --- GOT TO GET IN THE HABIT OF USING THESE\n",
    "    payload ={'apikey': username,\n",
    "              'symbol': un_sec,\n",
    "              'contractType': 'PUT',\n",
    "              'strategy': 'ANALYTICAL'}\n",
    "\n",
    "    #Make a request \n",
    "    content = requests.get(url = endpoint, params = payload)\n",
    "\n",
    "    # make a the request response in json \n",
    "    raw_data = content.json()\n",
    "    return raw_data"
   ]
  },
  {
   "cell_type": "code",
   "execution_count": null,
   "metadata": {
    "scrolled": false
   },
   "outputs": [],
   "source": [
    "get_option_chain_data(\"GOOG\",\"https://api.tdameritrade.com/v1/marketdata/chains\")"
   ]
  },
  {
   "cell_type": "code",
   "execution_count": null,
   "metadata": {},
   "outputs": [],
   "source": [
    "raw_data\n",
    "'''\n",
    "json object with raw option chain data (is a dictionary\n",
    "'''\n",
    "type(raw_data)"
   ]
  },
  {
   "cell_type": "code",
   "execution_count": null,
   "metadata": {},
   "outputs": [],
   "source": [
    "Who = raw_data['symbol']\n",
    "'''\n",
    "type(Who) ---string\n",
    "print(Who)\n",
    "'''\n",
    "print(Who)"
   ]
  },
  {
   "cell_type": "code",
   "execution_count": null,
   "metadata": {
    "scrolled": false
   },
   "outputs": [],
   "source": [
    "symception_0 = data['putExpDateMap']\n",
    "'''\n",
    "type(symception_0) ... dictionary including all data for options with different strike prices \n",
    "'''\n",
    "symception_0"
   ]
  },
  {
   "cell_type": "code",
   "execution_count": null,
   "metadata": {
    "scrolled": false
   },
   "outputs": [],
   "source": [
    "# Helper Function creates a range with n steps\n",
    "def helper_range_to_list(start,end,step):\n",
    "    x = range(start,end+1, step)\n",
    "    list_of_strike_prices = [*x]\n",
    "    #print(list_of_strike_prices)\n",
    "    #return(list_of_strike_prices)\n",
    "    \n",
    "    '''\n",
    "    for n in x:\n",
    "       list_of_strike_prices.append(n)\n",
    "       print(type(n))\n",
    "    '''\n",
    "#Onion_Helper_1()"
   ]
  },
  {
   "cell_type": "code",
   "execution_count": null,
   "metadata": {},
   "outputs": [],
   "source": [
    "Onion_Helper_1()"
   ]
  },
  {
   "cell_type": "code",
   "execution_count": null,
   "metadata": {
    "scrolled": true
   },
   "outputs": [],
   "source": [
    "\n",
    "#'''\n",
    "#This is the dictionary that was in the 'PutExpDateMap', which is\n",
    "#a nested dictionary containing all the info for a Google Put Chain from $1000.00\n",
    "#\n",
    "#'''\n"
   ]
  },
  {
   "cell_type": "code",
   "execution_count": null,
   "metadata": {
    "scrolled": true
   },
   "outputs": [],
   "source": [
    "symception_1 = symception_0['2019-12-27:6']\n",
    "symception_2 = symception_1['1000.0']\n",
    "\n",
    "symception_3 = symception_2[0] # this is a one item list "
   ]
  },
  {
   "cell_type": "code",
   "execution_count": null,
   "metadata": {
    "scrolled": true
   },
   "outputs": [],
   "source": [
    "symception_2"
   ]
  },
  {
   "cell_type": "code",
   "execution_count": null,
   "metadata": {},
   "outputs": [],
   "source": [
    "type(symception_0)"
   ]
  },
  {
   "cell_type": "code",
   "execution_count": null,
   "metadata": {
    "scrolled": true
   },
   "outputs": [],
   "source": [
    "type(symception_1)"
   ]
  },
  {
   "cell_type": "code",
   "execution_count": null,
   "metadata": {},
   "outputs": [],
   "source": [
    "type(symception_2)"
   ]
  },
  {
   "cell_type": "code",
   "execution_count": null,
   "metadata": {},
   "outputs": [],
   "source": [
    "type(symception_3)"
   ]
  },
  {
   "cell_type": "code",
   "execution_count": null,
   "metadata": {
    "scrolled": true
   },
   "outputs": [],
   "source": [
    "symception_3 = symception_2[0]"
   ]
  },
  {
   "cell_type": "code",
   "execution_count": null,
   "metadata": {
    "scrolled": true
   },
   "outputs": [],
   "source": [
    "symception_3"
   ]
  },
  {
   "cell_type": "code",
   "execution_count": null,
   "metadata": {
    "scrolled": true
   },
   "outputs": [],
   "source": [
    "type(symception_3)"
   ]
  },
  {
   "cell_type": "code",
   "execution_count": null,
   "metadata": {},
   "outputs": [],
   "source": [
    "symception_3['bid']\n",
    "symception_"
   ]
  },
  {
   "cell_type": "code",
   "execution_count": null,
   "metadata": {},
   "outputs": [],
   "source": []
  }
 ],
 "metadata": {
  "kernelspec": {
   "display_name": "Python 3",
   "language": "python",
   "name": "python3"
  },
  "language_info": {
   "codemirror_mode": {
    "name": "ipython",
    "version": 3
   },
   "file_extension": ".py",
   "mimetype": "text/x-python",
   "name": "python",
   "nbconvert_exporter": "python",
   "pygments_lexer": "ipython3",
   "version": "3.7.4"
  }
 },
 "nbformat": 4,
 "nbformat_minor": 2
}
